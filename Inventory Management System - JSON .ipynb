{
 "cells": [
  {
   "cell_type": "code",
   "execution_count": 20,
   "id": "5b0cb448",
   "metadata": {},
   "outputs": [],
   "source": [
    "#Importing libraries\n",
    "import json\n",
    "import time"
   ]
  },
  {
   "cell_type": "code",
   "execution_count": 21,
   "id": "3c6cd6a5",
   "metadata": {},
   "outputs": [],
   "source": [
    "#Opening file using json\n",
    "fd = open('Records.json','r')\n",
    "js = fd.read()\n",
    "fd.close()\n",
    "\n",
    "\n",
    "record = json.loads(js)"
   ]
  },
  {
   "cell_type": "code",
   "execution_count": 22,
   "id": "b1587bca",
   "metadata": {},
   "outputs": [
    {
     "name": "stdout",
     "output_type": "stream",
     "text": [
      "-------------------------Menu-------------------------------\n",
      "\n",
      "1001  : 5 Star | 10 | 195\n",
      "1002  : Bar-One | 20 | 100\n",
      "1003  : Candy | 5 | 1000\n",
      "1004  : Chocolate Cake | 550 | 10\n",
      "1005  : Blueberry Cake | 650 | 8\n",
      "------------------------------------------------------------\n",
      "\n",
      "Your Name: Abhi\n",
      "Conctact Details: 13\n",
      "Mail IDasda@gma\n",
      "Enter product ID: 1004\n",
      "Enter prodcut Quantity: 2\n",
      "------------------------------------------------------------\n",
      "                           Bill                                        \n",
      "------------------------------------------------------------\n",
      "\n",
      "Name              :  Chocolate Cake\n",
      "Price             :  550\n",
      "Quantity          :  2\n",
      "------------------------------------------------------------\n",
      "\n",
      "Billing Amount    : 1100\n",
      "------------------------------------------------------------\n",
      "\n"
     ]
    }
   ],
   "source": [
    "#DIsplaying Menu \n",
    "print(\"-------------------------Menu-------------------------------\\n\")\n",
    "for key in record.keys():\n",
    "    print(key,\" :\", record[key]['Name'], \"|\", record[key][\"Price\"],\"|\", record[key]['Qn'])\n",
    "print(\"------------------------------------------------------------\\n\")\n",
    "\n",
    "transaction_id = 1 \n",
    "ui_userName = input(\"Your Name: \")\n",
    "ui_contactDetails = input(\"Conctact Details: \")\n",
    "ui_mailId = input(\"Mail ID\")\n",
    "\n",
    "ui_prod_id = str(input(\"Enter product ID: \"))\n",
    "ui_prod_qn = input(\"Enter prodcut Quantity: \")\n",
    "\n",
    "#Creating Bill\n",
    "if(int(ui_prod_qn) > int(record[ui_prod_id][\"Qn\"])):\n",
    "    print(\"Not enough Quantity\")\n",
    "    print(\"Do you want to buy it all\")\n",
    "    ch = input(\"Press Y|N\")\n",
    "    \n",
    "    if(ch =='Y' or ch =='y'):\n",
    "        print(\"------------------------------------------------------------\")\n",
    "        print(\"                           Bill                                        \")\n",
    "        print(\"------------------------------------------------------------\\n\")\n",
    "\n",
    "\n",
    "        print(\"Name              : \", record[ui_prod_id]['Name'])\n",
    "        print(\"Price             : \",record[ui_prod_id]['Price'])\n",
    "        print(\"Quantity          : \",record[ui_prod_id]['Qn'])\n",
    "        print(\"------------------------------------------------------------\\n\")\n",
    "        print(\"Billing Amount    :\",int(record[ui_prod_id]['Qn'])*int(record[ui_prod_id]['Price']))\n",
    "        print(\"------------------------------------------------------------\\n\")\n",
    "        sale = str(transaction_id)+\",\"+ui_userName+','+ui_contactDetails+','+ui_mailId+','+ui_prod_id+','+record[ui_prod_id]['Qn']+','+str(int(record[ui_prod_id]['Qn'])*int(record[ui_prod_id]['Price']))+','+time.ctime()+\"\\n\"\n",
    "        record[ui_prod_id]['Qn'] = '0'\n",
    "    else:\n",
    "        print(\"-------------------------------------------------------------\")\n",
    "        print(\"Thankyou for shopping with us\")\n",
    "        print(\"-------------------------------------------------------------\")\n",
    "else:\n",
    "    print(\"------------------------------------------------------------\")\n",
    "    print(\"                           Bill                                        \")\n",
    "    print(\"------------------------------------------------------------\\n\")\n",
    "\n",
    "\n",
    "    print(\"Name              : \", record[ui_prod_id]['Name'])\n",
    "    print(\"Price             : \",record[ui_prod_id]['Price'])\n",
    "    print(\"Quantity          : \",ui_prod_qn)\n",
    "    print(\"------------------------------------------------------------\\n\")\n",
    "    print(\"Billing Amount    :\",int(ui_prod_qn)*int(record[ui_prod_id]['Price']))\n",
    "    print(\"------------------------------------------------------------\\n\")\n",
    "    record[ui_prod_id]['Qn'] = str(int(record[ui_prod_id]['Qn']) - int(ui_prod_qn))\n",
    "    sale = str(transaction_id)+\",\"+ui_userName+','+ui_contactDetails+','+ui_mailId+','+ui_prod_id+','+ui_prod_qn+','+str(int(ui_prod_qn)*int(record[ui_prod_id]['Price']))+','+time.ctime()+\"\\n\"\n"
   ]
  },
  {
   "cell_type": "code",
   "execution_count": 23,
   "id": "153ccd10",
   "metadata": {},
   "outputs": [],
   "source": [
    "#Updating the original database\n",
    "js = json.dumps(record)\n",
    "\n",
    "fd = open(\"Records.json\",'w')\n",
    "fd.write(js)\n",
    "fd.close()\n",
    "transaction_id += 1"
   ]
  },
  {
   "cell_type": "code",
   "execution_count": 24,
   "id": "1d5c06e2",
   "metadata": {},
   "outputs": [
    {
     "data": {
      "text/plain": [
       "'1,Abhi,13,asda@gma,1004,2,1100,Tue Jul 18 12:50:18 2023'"
      ]
     },
     "execution_count": 24,
     "metadata": {},
     "output_type": "execute_result"
    }
   ],
   "source": [
    "#Appending to sales file\n",
    "sale\n",
    "fd = open(\"Sales.txt\",'a')\n",
    "fd.write(sale)\n",
    "fd.close()"
   ]
  }
 ],
 "metadata": {
  "kernelspec": {
   "display_name": "Python 3 (ipykernel)",
   "language": "python",
   "name": "python3"
  },
  "language_info": {
   "codemirror_mode": {
    "name": "ipython",
    "version": 3
   },
   "file_extension": ".py",
   "mimetype": "text/x-python",
   "name": "python",
   "nbconvert_exporter": "python",
   "pygments_lexer": "ipython3",
   "version": "3.10.9"
  }
 },
 "nbformat": 4,
 "nbformat_minor": 5
}
